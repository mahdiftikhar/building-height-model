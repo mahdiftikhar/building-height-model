{
 "cells": [
  {
   "cell_type": "code",
   "execution_count": 1,
   "metadata": {},
   "outputs": [],
   "source": [
    "import pandas as pd\n",
    "import numpy as np\n",
    "import os \n",
    "import matplotlib.pyplot as plt\n",
    "import cv2"
   ]
  },
  {
   "cell_type": "code",
   "execution_count": 18,
   "metadata": {},
   "outputs": [
    {
     "data": {
      "text/html": [
       "<div>\n",
       "<style scoped>\n",
       "    .dataframe tbody tr th:only-of-type {\n",
       "        vertical-align: middle;\n",
       "    }\n",
       "\n",
       "    .dataframe tbody tr th {\n",
       "        vertical-align: top;\n",
       "    }\n",
       "\n",
       "    .dataframe thead th {\n",
       "        text-align: right;\n",
       "    }\n",
       "</style>\n",
       "<table border=\"1\" class=\"dataframe\">\n",
       "  <thead>\n",
       "    <tr style=\"text-align: right;\">\n",
       "      <th></th>\n",
       "      <th>image</th>\n",
       "      <th>bbox</th>\n",
       "      <th>cx</th>\n",
       "      <th>cy</th>\n",
       "      <th>w</th>\n",
       "      <th>h</th>\n",
       "      <th>class_name</th>\n",
       "      <th>image_id</th>\n",
       "      <th>class_id</th>\n",
       "      <th>SL_P1_x</th>\n",
       "      <th>SL_P1_y</th>\n",
       "      <th>SL_P2_x</th>\n",
       "      <th>SL_P2_y</th>\n",
       "      <th>lat</th>\n",
       "      <th>long</th>\n",
       "      <th>height</th>\n",
       "      <th>time</th>\n",
       "      <th>points</th>\n",
       "    </tr>\n",
       "  </thead>\n",
       "  <tbody>\n",
       "    <tr>\n",
       "      <th>0</th>\n",
       "      <td>shanghai_view2_100.png</td>\n",
       "      <td>0.80875 0.655 0.1025 0.405</td>\n",
       "      <td>0.80875</td>\n",
       "      <td>0.65500</td>\n",
       "      <td>0.1025</td>\n",
       "      <td>0.4050</td>\n",
       "      <td>building</td>\n",
       "      <td>0</td>\n",
       "      <td>0</td>\n",
       "      <td>0.68000</td>\n",
       "      <td>0.44375</td>\n",
       "      <td>0.68000</td>\n",
       "      <td>0.42375</td>\n",
       "      <td>31.332769</td>\n",
       "      <td>121.378553</td>\n",
       "      <td>6</td>\n",
       "      <td>2017-06-06-7</td>\n",
       "      <td>((303, 181), (344, 343))</td>\n",
       "    </tr>\n",
       "    <tr>\n",
       "      <th>1</th>\n",
       "      <td>shanghai_view2_100.png</td>\n",
       "      <td>0.71375 0.58375 0.1025 0.1925</td>\n",
       "      <td>0.71375</td>\n",
       "      <td>0.58375</td>\n",
       "      <td>0.1025</td>\n",
       "      <td>0.1925</td>\n",
       "      <td>building</td>\n",
       "      <td>0</td>\n",
       "      <td>0</td>\n",
       "      <td>0.63750</td>\n",
       "      <td>0.57000</td>\n",
       "      <td>0.63375</td>\n",
       "      <td>0.55000</td>\n",
       "      <td>31.332769</td>\n",
       "      <td>121.378553</td>\n",
       "      <td>6</td>\n",
       "      <td>2017-06-06-7</td>\n",
       "      <td>((265, 195), (306, 272))</td>\n",
       "    </tr>\n",
       "    <tr>\n",
       "      <th>2</th>\n",
       "      <td>shanghai_view2_100.png</td>\n",
       "      <td>0.49 0.60875 0.105 0.0725</td>\n",
       "      <td>0.49000</td>\n",
       "      <td>0.60875</td>\n",
       "      <td>0.1050</td>\n",
       "      <td>0.0725</td>\n",
       "      <td>building</td>\n",
       "      <td>0</td>\n",
       "      <td>0</td>\n",
       "      <td>0.41250</td>\n",
       "      <td>0.53375</td>\n",
       "      <td>0.40875</td>\n",
       "      <td>0.51500</td>\n",
       "      <td>31.332769</td>\n",
       "      <td>121.378553</td>\n",
       "      <td>33</td>\n",
       "      <td>2017-06-06-7</td>\n",
       "      <td>((175, 229), (217, 258))</td>\n",
       "    </tr>\n",
       "    <tr>\n",
       "      <th>3</th>\n",
       "      <td>shanghai_view2_100.png</td>\n",
       "      <td>0.37625 0.6375 0.0925 0.09</td>\n",
       "      <td>0.37625</td>\n",
       "      <td>0.63750</td>\n",
       "      <td>0.0925</td>\n",
       "      <td>0.0900</td>\n",
       "      <td>building</td>\n",
       "      <td>0</td>\n",
       "      <td>0</td>\n",
       "      <td>0.33000</td>\n",
       "      <td>0.56000</td>\n",
       "      <td>0.32375</td>\n",
       "      <td>0.54500</td>\n",
       "      <td>31.332769</td>\n",
       "      <td>121.378553</td>\n",
       "      <td>33</td>\n",
       "      <td>2017-06-06-7</td>\n",
       "      <td>((132, 236), (169, 273))</td>\n",
       "    </tr>\n",
       "    <tr>\n",
       "      <th>4</th>\n",
       "      <td>shanghai_view2_100.png</td>\n",
       "      <td>0.2775 0.675 0.1 0.06</td>\n",
       "      <td>0.27750</td>\n",
       "      <td>0.67500</td>\n",
       "      <td>0.1000</td>\n",
       "      <td>0.0600</td>\n",
       "      <td>building</td>\n",
       "      <td>0</td>\n",
       "      <td>0</td>\n",
       "      <td>0.22375</td>\n",
       "      <td>0.59875</td>\n",
       "      <td>0.21750</td>\n",
       "      <td>0.58500</td>\n",
       "      <td>31.332769</td>\n",
       "      <td>121.378553</td>\n",
       "      <td>6</td>\n",
       "      <td>2017-06-06-7</td>\n",
       "      <td>((91, 258), (131, 282))</td>\n",
       "    </tr>\n",
       "  </tbody>\n",
       "</table>\n",
       "</div>"
      ],
      "text/plain": [
       "                    image                           bbox       cx       cy  \\\n",
       "0  shanghai_view2_100.png     0.80875 0.655 0.1025 0.405  0.80875  0.65500   \n",
       "1  shanghai_view2_100.png  0.71375 0.58375 0.1025 0.1925  0.71375  0.58375   \n",
       "2  shanghai_view2_100.png      0.49 0.60875 0.105 0.0725  0.49000  0.60875   \n",
       "3  shanghai_view2_100.png     0.37625 0.6375 0.0925 0.09  0.37625  0.63750   \n",
       "4  shanghai_view2_100.png          0.2775 0.675 0.1 0.06  0.27750  0.67500   \n",
       "\n",
       "        w       h class_name  image_id  class_id  SL_P1_x  SL_P1_y  SL_P2_x  \\\n",
       "0  0.1025  0.4050   building         0         0  0.68000  0.44375  0.68000   \n",
       "1  0.1025  0.1925   building         0         0  0.63750  0.57000  0.63375   \n",
       "2  0.1050  0.0725   building         0         0  0.41250  0.53375  0.40875   \n",
       "3  0.0925  0.0900   building         0         0  0.33000  0.56000  0.32375   \n",
       "4  0.1000  0.0600   building         0         0  0.22375  0.59875  0.21750   \n",
       "\n",
       "   SL_P2_y        lat        long  height          time  \\\n",
       "0  0.42375  31.332769  121.378553       6  2017-06-06-7   \n",
       "1  0.55000  31.332769  121.378553       6  2017-06-06-7   \n",
       "2  0.51500  31.332769  121.378553      33  2017-06-06-7   \n",
       "3  0.54500  31.332769  121.378553      33  2017-06-06-7   \n",
       "4  0.58500  31.332769  121.378553       6  2017-06-06-7   \n",
       "\n",
       "                     points  \n",
       "0  ((303, 181), (344, 343))  \n",
       "1  ((265, 195), (306, 272))  \n",
       "2  ((175, 229), (217, 258))  \n",
       "3  ((132, 236), (169, 273))  \n",
       "4   ((91, 258), (131, 282))  "
      ]
     },
     "execution_count": 18,
     "metadata": {},
     "output_type": "execute_result"
    }
   ],
   "source": [
    "df = pd.read_csv(\"../dataset.csv\")\n",
    "df.head()"
   ]
  },
  {
   "cell_type": "code",
   "execution_count": 3,
   "metadata": {},
   "outputs": [
    {
     "data": {
      "text/plain": [
       "4568"
      ]
     },
     "execution_count": 3,
     "metadata": {},
     "output_type": "execute_result"
    }
   ],
   "source": [
    "small_building_df = df[df.height <= 24]\n",
    "large_building_df = df[df.height > 30]\n",
    "test_size = int(len(df) * 0.1)\n",
    "test_size"
   ]
  },
  {
   "cell_type": "code",
   "execution_count": 4,
   "metadata": {},
   "outputs": [],
   "source": [
    "small_building_df = small_building_df.sample(test_size)\n",
    "large_building_df = large_building_df.sample(test_size)\n",
    "\n",
    "train_df = df.query(\"index not in @small_building_df.index\")\n",
    "train_df = train_df.query(\"index not in @large_building_df.index\")\n",
    "\n",
    "train_df.shape[0]\n",
    "\n",
    "small_building_df.to_csv(\"small_building_dataset.csv\", index=False)\n",
    "large_building_df.to_csv(\"large_building_dataset.csv\", index=False)\n",
    "\n",
    "# train_df"
   ]
  },
  {
   "cell_type": "code",
   "execution_count": 10,
   "metadata": {},
   "outputs": [],
   "source": [
    "train_df.to_csv(\"train_dataset.csv\", index=False)"
   ]
  },
  {
   "cell_type": "code",
   "execution_count": 2,
   "metadata": {},
   "outputs": [],
   "source": [
    "temp = pd.read_csv(\"small_building_dataset.csv\")\n",
    "temp = temp.query(\"height >= 12 and height <= 24\")\n",
    "temp.to_csv(\"sugma.csv\", index=False)"
   ]
  },
  {
   "cell_type": "code",
   "execution_count": 5,
   "metadata": {},
   "outputs": [],
   "source": [
    "small_df = pd.read_csv(\"small_building_dataset.csv\")\n",
    "large_df = pd.read_csv(\"large_building_dataset.csv\")\n",
    "train_df = pd.read_csv(\"train_dataset.csv\")"
   ]
  },
  {
   "cell_type": "code",
   "execution_count": 4,
   "metadata": {},
   "outputs": [
    {
     "data": {
      "text/plain": [
       "(9136, 2066)"
      ]
     },
     "execution_count": 4,
     "metadata": {},
     "output_type": "execute_result"
    }
   ],
   "source": [
    "testDf = pd.concat([small_df, large_df])\n",
    "len(testDf), len(testDf.image.unique())"
   ]
  },
  {
   "cell_type": "code",
   "execution_count": 6,
   "metadata": {},
   "outputs": [
    {
     "data": {
      "text/plain": [
       "(36553, 2346)"
      ]
     },
     "execution_count": 6,
     "metadata": {},
     "output_type": "execute_result"
    }
   ],
   "source": [
    "len(train_df), len(train_df.image.unique())"
   ]
  },
  {
   "cell_type": "code",
   "execution_count": 15,
   "metadata": {},
   "outputs": [
    {
     "data": {
      "text/plain": [
       "2354"
      ]
     },
     "execution_count": 15,
     "metadata": {},
     "output_type": "execute_result"
    }
   ],
   "source": [
    "train_images = list(train_df.image.unique())\n",
    "test_images = list(testDf.image.unique())\n",
    "total_images = set(train_images + test_images)\n",
    "len(total_images)"
   ]
  },
  {
   "cell_type": "code",
   "execution_count": 17,
   "metadata": {},
   "outputs": [
    {
     "data": {
      "text/plain": [
       "8"
      ]
     },
     "execution_count": 17,
     "metadata": {},
     "output_type": "execute_result"
    }
   ],
   "source": [
    "only_test_images = set(test_images) - set(train_images)\n",
    "len(only_test_images)"
   ]
  }
 ],
 "metadata": {
  "kernelspec": {
   "display_name": "yolo",
   "language": "python",
   "name": "python3"
  },
  "language_info": {
   "codemirror_mode": {
    "name": "ipython",
    "version": 3
   },
   "file_extension": ".py",
   "mimetype": "text/x-python",
   "name": "python",
   "nbconvert_exporter": "python",
   "pygments_lexer": "ipython3",
   "version": "3.9.16"
  },
  "orig_nbformat": 4,
  "vscode": {
   "interpreter": {
    "hash": "84944120563be753397af0da4994f4b2770a7485608a7a431ff484d754f16945"
   }
  }
 },
 "nbformat": 4,
 "nbformat_minor": 2
}
