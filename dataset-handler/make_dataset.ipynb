{
 "cells": [
  {
   "cell_type": "code",
   "execution_count": 26,
   "metadata": {},
   "outputs": [],
   "source": [
    "import pandas as pd\n",
    "import os\n",
    "import json\n",
    "from glob import glob\n",
    "from PIL import Image\n",
    "import numpy as np\n",
    "from scipy import stats\n"
   ]
  },
  {
   "cell_type": "code",
   "execution_count": 5,
   "metadata": {},
   "outputs": [],
   "source": [
    "def read_txt(txt_file):\n",
    "    with open(txt_file, \"r\") as f:\n",
    "        lines = f.readlines()\n",
    "        lines = [line.strip() for line in lines]\n",
    "    return lines"
   ]
  },
  {
   "cell_type": "code",
   "execution_count": 9,
   "metadata": {},
   "outputs": [
    {
     "data": {
      "text/plain": [
       "3073"
      ]
     },
     "execution_count": 9,
     "metadata": {},
     "output_type": "execute_result"
    }
   ],
   "source": [
    "DATA_DIR = \"/mnt/d/kaam/building_height/42CitiesDataset/train/\"\n",
    "\n",
    "images = glob(f\"{DATA_DIR}view1/*\")\n",
    "\n",
    "len(images)\n"
   ]
  },
  {
   "cell_type": "code",
   "execution_count": 39,
   "metadata": {},
   "outputs": [],
   "source": [
    "full_mask = []\n",
    "for imagePath in images:\n",
    "    # imageName = imagePath.split(\"/\")[-1]\n",
    "    # print(imagePath)\n",
    "    # txtPath = imagePath.replace(\"view1\", \"txts\").replace(\".png\", \".txt\")\n",
    "    maskPath = imagePath.replace(\"view1\", \"masks\")\n",
    "\n",
    "    # image = Image.open(imagePath)\n",
    "    # txt = read_txt(txtPath)\n",
    "    mask = Image.open(maskPath).convert(\"L\")\n",
    "\n",
    "    mask_np = np.array(mask).flatten()\n",
    "    full_mask.append(mask_np)\n",
    "    # mask_np = mask_np[mask_np != 0]\n",
    "    # print(stats.mode(mask_np))\n",
    "\n",
    "    \n",
    "    # for line in txt:\n",
    "    #     line = line.split(\" \")\n",
    "    #     ctr_x, ctr_y, w, h = float(line[0]), float(line[1]), float(line[2]), float(line[3])\n",
    "    #     building_mask = mask.crop((ctr_x - w / 2, ctr_y - h / 2, ctr_x + w / 2, ctr_y + h / 2))\n",
    "    #     display(building_mask)\n",
    "\n",
    "    #     building_mask = np.array(building_mask).flatten()\n",
    "    #     # remove all 0s from mask\n",
    "    #     building_mask = building_mask[building_mask != 0]\n",
    "    #     mode = stats.mode(building_mask)\n",
    "    #     print(mode)\n",
    "    #     print(np.unique(building_mask, return_counts=True))\n",
    "\n",
    "    #     break\n",
    "    #     # display(image.crop((x1, y1, x1 + w, y1 + h)))\n",
    "    # break\n"
   ]
  },
  {
   "cell_type": "code",
   "execution_count": 46,
   "metadata": {},
   "outputs": [
    {
     "data": {
      "text/plain": [
       "(array([  1,   2,   3,   4,   5,   6,   7,   8,   9,  10,  11,  12,  13,\n",
       "         14,  15,  16,  17,  18,  19,  20,  21,  22,  23,  24,  25,  26,\n",
       "         27,  28,  29,  30,  31,  32,  33,  34,  35,  36,  37,  38,  39,\n",
       "         40,  41,  42,  43,  44,  45,  46,  47,  48,  49,  50,  51,  52,\n",
       "         53,  54,  55,  56,  57,  58,  59,  60,  61,  63,  64,  65,  68,\n",
       "         69,  70,  74,  75,  76,  77,  80,  82,  83,  84,  85,  88,  89,\n",
       "         96, 101, 103, 108, 114, 118, 139], dtype=uint8),\n",
       " array([13011152, 27449424, 13080726, 11340650, 11665492, 12812737,\n",
       "         6007735,  3759264,  1544663,  1464795,   761869,   953425,\n",
       "          472000,   517795,   674893,   553093,   363801,   647992,\n",
       "          229570,   907542,   288434,   326894,   216555,   328252,\n",
       "          344081,   306562,   233822,   281661,   114099,   353162,\n",
       "           57190,   125576,    66133,    31241,    37127,    21060,\n",
       "           11024,    17778,     7792,    26446,     4290,     7259,\n",
       "            4102,     3309,     4338,     2116,     2079,     2734,\n",
       "             806,     8606,     4071,     2580,     3495,     1497,\n",
       "             902,      967,      358,      953,     1389,     2178,\n",
       "            1201,      668,      140,      256,      429,      341,\n",
       "              21,      935,      435,      435,        8,      430,\n",
       "              79,      225,      714,      918,      769,       69,\n",
       "             163,     2664,      471,      566,      393,     1163,\n",
       "             574]))"
      ]
     },
     "execution_count": 46,
     "metadata": {},
     "output_type": "execute_result"
    }
   ],
   "source": [
    "full_mask = np.array(full_mask).flatten()\n",
    "full_mask = full_mask[full_mask != 0]\n",
    "np.unique(full_mask, return_counts=True)"
   ]
  }
 ],
 "metadata": {
  "kernelspec": {
   "display_name": "height",
   "language": "python",
   "name": "python3"
  },
  "language_info": {
   "codemirror_mode": {
    "name": "ipython",
    "version": 3
   },
   "file_extension": ".py",
   "mimetype": "text/x-python",
   "name": "python",
   "nbconvert_exporter": "python",
   "pygments_lexer": "ipython3",
   "version": "3.10.14"
  }
 },
 "nbformat": 4,
 "nbformat_minor": 2
}
